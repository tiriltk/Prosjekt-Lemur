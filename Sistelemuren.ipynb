{
 "cells": [
  {
   "cell_type": "markdown",
   "metadata": {},
   "source": [
    "# Prosjekt lemur"
   ]
  },
  {
   "cell_type": "markdown",
   "metadata": {},
   "source": [
    "Vi har valgt en oppgave om lemurene i Madagaskar!"
   ]
  },
  {
   "cell_type": "markdown",
   "metadata": {},
   "source": [
    "<img src=\"https://secure.i.telegraph.co.uk/multimedia/archive/02647/lemur_2647603b.jpg\" width=50%>"
   ]
  },
  {
   "cell_type": "markdown",
   "metadata": {},
   "source": [
    "Datasettet vi jobbet med inneholdt informasjon om Madagaskar-lemurene og deres hverdag. Informasjonen fikk vi gitt i en 'csv'-fil. Der hver rad i datasettet beskriver lemurenes rute, hvilket år, hvilken tid, hva slags arter og gruppestørrelsen de ble oppservert i. Alle disse \"variabler\" eller \"features\" er listet opp med beskrivelse i tabellen under. \n",
    "\n",
    "I denne oppgaven skal jeg aller først lese av fila og undersøke den. Så skal jeg prøve å fremstille en modell som kan hjelpe oss å undersøke lemurpopulasjonen på Mdagaskar, gitt de variablene som finnes i csv-filen. I prossenen kan vi stille spørsmål som feks. Er det noe forskjell på lemurforekomsten i Mariano og Matsedroy? Hva kan vi si om lemurpopulsjonene i dette området? Og er det noe utvikling over tid eller lemurtype sortert etter tidspunkt på dagen."
   ]
  },
  {
   "cell_type": "code",
   "execution_count": 15,
   "metadata": {},
   "outputs": [
    {
     "name": "stdout",
     "output_type": "stream",
     "text": [
      "\\Library\\bin\\graphviz\n"
     ]
    }
   ],
   "source": [
    "import sys\n",
    "print(\"\\\\\".join(sys.executable.split(\"\\\\\")[:-1]) + \"\\\\Library\\\\bin\\\\graphviz\")"
   ]
  },
  {
   "cell_type": "code",
   "execution_count": 16,
   "metadata": {},
   "outputs": [],
   "source": [
    "# Importerer pandas biblioteket\n",
    "import pandas as pd\n",
    "import numpy as np\n",
    "import seaborn as sns\n",
    "import matplotlib.pyplot as plt\n",
    "import pydotplus as pydot\n",
    "from IPython.display import Image\n",
    "%matplotlib inline\n",
    "\n",
    "# Leser dataen\n",
    "titanic = pd.read_csv(\"Lemur.csv\")"
   ]
  },
  {
   "cell_type": "code",
   "execution_count": 17,
   "metadata": {},
   "outputs": [],
   "source": [
    "import pandas as pd\n",
    "lemur = pd.read_csv(\"Lemur.csv\", sep=\";\")"
   ]
  },
  {
   "cell_type": "code",
   "execution_count": 27,
   "metadata": {},
   "outputs": [],
   "source": [
    "%matplotlib inline\n",
    "\n",
    "import pandas as pd\n",
    "import matplotlib.pyplot as plt\n",
    "import seaborn as sns\n",
    "\n",
    "sns.set(style=\"darkgrid\")"
   ]
  },
  {
   "cell_type": "markdown",
   "metadata": {},
   "source": [
    "Datasettet er lagret og vi har lastet det opp i en panda data struktur, dataframe, som ser ut som en tabell. Vårt ser sånn her ut:"
   ]
  },
  {
   "cell_type": "code",
   "execution_count": 18,
   "metadata": {},
   "outputs": [
    {
     "data": {
      "text/html": [
       "<div>\n",
       "<style scoped>\n",
       "    .dataframe tbody tr th:only-of-type {\n",
       "        vertical-align: middle;\n",
       "    }\n",
       "\n",
       "    .dataframe tbody tr th {\n",
       "        vertical-align: top;\n",
       "    }\n",
       "\n",
       "    .dataframe thead th {\n",
       "        text-align: right;\n",
       "    }\n",
       "</style>\n",
       "<table border=\"1\" class=\"dataframe\">\n",
       "  <thead>\n",
       "    <tr style=\"text-align: right;\">\n",
       "      <th></th>\n",
       "      <th>Year</th>\n",
       "      <th>Time started</th>\n",
       "      <th>Route</th>\n",
       "      <th>Species</th>\n",
       "      <th>Group size</th>\n",
       "    </tr>\n",
       "  </thead>\n",
       "  <tbody>\n",
       "    <tr>\n",
       "      <th>0</th>\n",
       "      <td>2015</td>\n",
       "      <td>19:00</td>\n",
       "      <td>Mariarano_R1</td>\n",
       "      <td>Avahi occidentalis</td>\n",
       "      <td>1</td>\n",
       "    </tr>\n",
       "    <tr>\n",
       "      <th>1</th>\n",
       "      <td>2015</td>\n",
       "      <td>19:00</td>\n",
       "      <td>Mariarano_R1</td>\n",
       "      <td>Avahi occidentalis</td>\n",
       "      <td>1</td>\n",
       "    </tr>\n",
       "    <tr>\n",
       "      <th>2</th>\n",
       "      <td>2015</td>\n",
       "      <td>19:00</td>\n",
       "      <td>Mariarano_R1</td>\n",
       "      <td>Avahi occidentalis</td>\n",
       "      <td>1</td>\n",
       "    </tr>\n",
       "    <tr>\n",
       "      <th>3</th>\n",
       "      <td>2015</td>\n",
       "      <td>19:20</td>\n",
       "      <td>Mariarano_R1</td>\n",
       "      <td>Avahi occidentalis</td>\n",
       "      <td>1</td>\n",
       "    </tr>\n",
       "    <tr>\n",
       "      <th>4</th>\n",
       "      <td>2015</td>\n",
       "      <td>19:20</td>\n",
       "      <td>Mariarano_R1</td>\n",
       "      <td>Avahi occidentalis</td>\n",
       "      <td>1</td>\n",
       "    </tr>\n",
       "  </tbody>\n",
       "</table>\n",
       "</div>"
      ],
      "text/plain": [
       "   Year Time started         Route             Species  Group size\n",
       "0  2015        19:00  Mariarano_R1  Avahi occidentalis           1\n",
       "1  2015        19:00  Mariarano_R1  Avahi occidentalis           1\n",
       "2  2015        19:00  Mariarano_R1  Avahi occidentalis           1\n",
       "3  2015        19:20  Mariarano_R1  Avahi occidentalis           1\n",
       "4  2015        19:20  Mariarano_R1  Avahi occidentalis           1"
      ]
     },
     "execution_count": 18,
     "metadata": {},
     "output_type": "execute_result"
    }
   ],
   "source": [
    "lemur.head()"
   ]
  },
  {
   "cell_type": "code",
   "execution_count": 19,
   "metadata": {},
   "outputs": [
    {
     "name": "stdout",
     "output_type": "stream",
     "text": [
      "<class 'pandas.core.frame.DataFrame'>\n",
      "RangeIndex: 3185 entries, 0 to 3184\n",
      "Data columns (total 5 columns):\n",
      "Year            3185 non-null int64\n",
      "Time started    3184 non-null object\n",
      "Route           3185 non-null object\n",
      "Species         3185 non-null object\n",
      "Group size      3185 non-null int64\n",
      "dtypes: int64(2), object(3)\n",
      "memory usage: 124.5+ KB\n"
     ]
    }
   ],
   "source": [
    "lemur.info()"
   ]
  },
  {
   "cell_type": "code",
   "execution_count": 23,
   "metadata": {},
   "outputs": [
    {
     "data": {
      "text/html": [
       "<div>\n",
       "<style scoped>\n",
       "    .dataframe tbody tr th:only-of-type {\n",
       "        vertical-align: middle;\n",
       "    }\n",
       "\n",
       "    .dataframe tbody tr th {\n",
       "        vertical-align: top;\n",
       "    }\n",
       "\n",
       "    .dataframe thead th {\n",
       "        text-align: right;\n",
       "    }\n",
       "</style>\n",
       "<table border=\"1\" class=\"dataframe\">\n",
       "  <thead>\n",
       "    <tr style=\"text-align: right;\">\n",
       "      <th></th>\n",
       "      <th>Year</th>\n",
       "      <th>Time started</th>\n",
       "      <th>Route</th>\n",
       "      <th>Group size</th>\n",
       "    </tr>\n",
       "  </thead>\n",
       "  <tbody>\n",
       "    <tr>\n",
       "      <th>3180</th>\n",
       "      <td>2017</td>\n",
       "      <td>07:13</td>\n",
       "      <td>Matsedroy_R4</td>\n",
       "      <td>1</td>\n",
       "    </tr>\n",
       "    <tr>\n",
       "      <th>3181</th>\n",
       "      <td>2017</td>\n",
       "      <td>07:13</td>\n",
       "      <td>Matsedroy_R4</td>\n",
       "      <td>1</td>\n",
       "    </tr>\n",
       "    <tr>\n",
       "      <th>3182</th>\n",
       "      <td>2017</td>\n",
       "      <td>07:23</td>\n",
       "      <td>Matsedroy_R4</td>\n",
       "      <td>1</td>\n",
       "    </tr>\n",
       "    <tr>\n",
       "      <th>3183</th>\n",
       "      <td>2017</td>\n",
       "      <td>07:10</td>\n",
       "      <td>Matsedroy_R4</td>\n",
       "      <td>5</td>\n",
       "    </tr>\n",
       "    <tr>\n",
       "      <th>3184</th>\n",
       "      <td>2017</td>\n",
       "      <td>07:20</td>\n",
       "      <td>Matsedroy_R4</td>\n",
       "      <td>2</td>\n",
       "    </tr>\n",
       "  </tbody>\n",
       "</table>\n",
       "</div>"
      ],
      "text/plain": [
       "      Year Time started         Route  Group size\n",
       "3180  2017        07:13  Matsedroy_R4           1\n",
       "3181  2017        07:13  Matsedroy_R4           1\n",
       "3182  2017        07:23  Matsedroy_R4           1\n",
       "3183  2017        07:10  Matsedroy_R4           5\n",
       "3184  2017        07:20  Matsedroy_R4           2"
      ]
     },
     "execution_count": 23,
     "metadata": {},
     "output_type": "execute_result"
    }
   ],
   "source": [
    "lemur.tail()"
   ]
  },
  {
   "cell_type": "markdown",
   "metadata": {},
   "source": [
    "Det ser bra ut. Vi har alle kolonnene vi trenger, og hver av radene samsvarer med hverandre og året. \n",
    "Renamer kolonnene så jeg kan referere til de senere:"
   ]
  },
  {
   "cell_type": "code",
   "execution_count": 31,
   "metadata": {},
   "outputs": [],
   "source": [
    "lemur.columns = ['year', 'time started', 'route', 'group size']"
   ]
  },
  {
   "cell_type": "markdown",
   "metadata": {},
   "source": [
    "Så utforsker jeg datasettet litt til, for å sjekke at pandas leste det riktig og at det ikke er noen manglende verdier. "
   ]
  },
  {
   "cell_type": "code",
   "execution_count": 33,
   "metadata": {},
   "outputs": [
    {
     "data": {
      "text/plain": [
       "3185"
      ]
     },
     "execution_count": 33,
     "metadata": {},
     "output_type": "execute_result"
    }
   ],
   "source": [
    "len(lemur)"
   ]
  },
  {
   "cell_type": "markdown",
   "metadata": {},
   "source": [
    "Det ser bra ut. Nå skal jeg se om datasettet ble importert riktig. "
   ]
  },
  {
   "cell_type": "code",
   "execution_count": 34,
   "metadata": {},
   "outputs": [
    {
     "data": {
      "text/plain": [
       "year             int64\n",
       "time started    object\n",
       "route           object\n",
       "group size       int64\n",
       "dtype: object"
      ]
     },
     "execution_count": 34,
     "metadata": {},
     "output_type": "execute_result"
    }
   ],
   "source": [
    "lemur.dtypes"
   ]
  },
  {
   "cell_type": "markdown",
   "metadata": {},
   "source": [
    "Ops! Det ser ut som at det er noe feil med to av kolonnene. Det burde vært float, så må ta en sjekk på verdiene. "
   ]
  },
  {
   "cell_type": "code",
   "execution_count": 41,
   "metadata": {},
   "outputs": [
    {
     "data": {
      "text/html": [
       "<div>\n",
       "<style scoped>\n",
       "    .dataframe tbody tr th:only-of-type {\n",
       "        vertical-align: middle;\n",
       "    }\n",
       "\n",
       "    .dataframe tbody tr th {\n",
       "        vertical-align: top;\n",
       "    }\n",
       "\n",
       "    .dataframe thead th {\n",
       "        text-align: right;\n",
       "    }\n",
       "</style>\n",
       "<table border=\"1\" class=\"dataframe\">\n",
       "  <thead>\n",
       "    <tr style=\"text-align: right;\">\n",
       "      <th></th>\n",
       "      <th>year</th>\n",
       "      <th>time started</th>\n",
       "      <th>route</th>\n",
       "      <th>group size</th>\n",
       "    </tr>\n",
       "  </thead>\n",
       "  <tbody>\n",
       "    <tr>\n",
       "      <th>0</th>\n",
       "      <td>2015</td>\n",
       "      <td>19:00</td>\n",
       "      <td>Mariarano_R1</td>\n",
       "      <td>1</td>\n",
       "    </tr>\n",
       "    <tr>\n",
       "      <th>1</th>\n",
       "      <td>2015</td>\n",
       "      <td>19:00</td>\n",
       "      <td>Mariarano_R1</td>\n",
       "      <td>1</td>\n",
       "    </tr>\n",
       "    <tr>\n",
       "      <th>2</th>\n",
       "      <td>2015</td>\n",
       "      <td>19:00</td>\n",
       "      <td>Mariarano_R1</td>\n",
       "      <td>1</td>\n",
       "    </tr>\n",
       "    <tr>\n",
       "      <th>3</th>\n",
       "      <td>2015</td>\n",
       "      <td>19:20</td>\n",
       "      <td>Mariarano_R1</td>\n",
       "      <td>1</td>\n",
       "    </tr>\n",
       "    <tr>\n",
       "      <th>4</th>\n",
       "      <td>2015</td>\n",
       "      <td>19:20</td>\n",
       "      <td>Mariarano_R1</td>\n",
       "      <td>1</td>\n",
       "    </tr>\n",
       "  </tbody>\n",
       "</table>\n",
       "</div>"
      ],
      "text/plain": [
       "   year time started         route  group size\n",
       "0  2015        19:00  Mariarano_R1           1\n",
       "1  2015        19:00  Mariarano_R1           1\n",
       "2  2015        19:00  Mariarano_R1           1\n",
       "3  2015        19:20  Mariarano_R1           1\n",
       "4  2015        19:20  Mariarano_R1           1"
      ]
     },
     "execution_count": 41,
     "metadata": {},
     "output_type": "execute_result"
    }
   ],
   "source": [
    "non_numberic_route = lemur.route.str.contains('[^0-9.-]')\n",
    "lemur.loc[non_numberic_route].head()"
   ]
  },
  {
   "cell_type": "code",
   "execution_count": 43,
   "metadata": {},
   "outputs": [
    {
     "data": {
      "text/plain": [
       "{'Mariarano_R1',\n",
       " 'Mariarano_R2',\n",
       " 'Mariarano_R3',\n",
       " 'Mariarano_R4',\n",
       " 'Matsedroy_R1',\n",
       " 'Matsedroy_R2',\n",
       " 'Matsedroy_R3',\n",
       " 'Matsedroy_R4'}"
      ]
     },
     "execution_count": 43,
     "metadata": {},
     "output_type": "execute_result"
    }
   ],
   "source": [
    "set(lemur.route[non_numberic_route])"
   ]
  },
  {
   "cell_type": "markdown",
   "metadata": {},
   "source": [
    "Etter å ha studert datasettet, prøver jeg meg litt frem ved å se på de forskejllige kolonnene og undersøker om det er kolonner man kan klare å lage modeller uten. Da dropper jeg den bare fra datasettet, ved å bruke  dataframe.pop(kolonne) eller drop."
   ]
  },
  {
   "cell_type": "code",
   "execution_count": 20,
   "metadata": {},
   "outputs": [
    {
     "data": {
      "text/plain": [
       "0          Avahi occidentalis\n",
       "1          Avahi occidentalis\n",
       "2          Avahi occidentalis\n",
       "3          Avahi occidentalis\n",
       "4          Avahi occidentalis\n",
       "5          Avahi occidentalis\n",
       "6          Avahi occidentalis\n",
       "7          Avahi occidentalis\n",
       "8          Avahi occidentalis\n",
       "9          Avahi occidentalis\n",
       "10         Avahi occidentalis\n",
       "11         Avahi occidentalis\n",
       "12         Avahi occidentalis\n",
       "13         Avahi occidentalis\n",
       "14         Avahi occidentalis\n",
       "15         Avahi occidentalis\n",
       "16         Avahi occidentalis\n",
       "17         Avahi occidentalis\n",
       "18         Avahi occidentalis\n",
       "19         Avahi occidentalis\n",
       "20         Avahi occidentalis\n",
       "21         Avahi occidentalis\n",
       "22         Avahi occidentalis\n",
       "23         Avahi occidentalis\n",
       "24         Avahi occidentalis\n",
       "25         Avahi occidentalis\n",
       "26         Avahi occidentalis\n",
       "27         Avahi occidentalis\n",
       "28         Avahi occidentalis\n",
       "29         Avahi occidentalis\n",
       "                ...          \n",
       "3155    Propithecus coquereli\n",
       "3156    Propithecus coquereli\n",
       "3157    Propithecus coquereli\n",
       "3158    Propithecus coquereli\n",
       "3159    Propithecus coquereli\n",
       "3160    Propithecus coquereli\n",
       "3161    Propithecus coquereli\n",
       "3162    Propithecus coquereli\n",
       "3163    Propithecus coquereli\n",
       "3164    Propithecus coquereli\n",
       "3165    Propithecus coquereli\n",
       "3166    Propithecus coquereli\n",
       "3167    Propithecus coquereli\n",
       "3168    Propithecus coquereli\n",
       "3169    Propithecus coquereli\n",
       "3170    Propithecus coquereli\n",
       "3171    Propithecus coquereli\n",
       "3172    Propithecus coquereli\n",
       "3173    Propithecus coquereli\n",
       "3174    Propithecus coquereli\n",
       "3175    Propithecus coquereli\n",
       "3176    Propithecus coquereli\n",
       "3177    Propithecus coquereli\n",
       "3178    Propithecus coquereli\n",
       "3179    Propithecus coquereli\n",
       "3180    Propithecus coquereli\n",
       "3181    Propithecus coquereli\n",
       "3182    Propithecus coquereli\n",
       "3183    Propithecus coquereli\n",
       "3184    Propithecus coquereli\n",
       "Name: Species, Length: 3185, dtype: object"
      ]
     },
     "execution_count": 20,
     "metadata": {},
     "output_type": "execute_result"
    }
   ],
   "source": [
    "lemur.pop('Species')"
   ]
  },
  {
   "cell_type": "markdown",
   "metadata": {},
   "source": [
    "Tester ut en modell med det litt forenklede datasettet:"
   ]
  },
  {
   "cell_type": "code",
   "execution_count": 60,
   "metadata": {},
   "outputs": [],
   "source": [
    "import csv\n",
    "with open('lemur.csv', 'w', newline='') as csvfile:\n",
    "    spamwriter = csv.writer(csvfile, delimiter=',',\n",
    "                            quotechar='|', quoting=csv.QUOTE_NONE)\n",
    "    spamwriter.writerow([str(1.1112233), str(1.3355)])"
   ]
  },
  {
   "cell_type": "code",
   "execution_count": 68,
   "metadata": {},
   "outputs": [
    {
     "data": {
      "text/plain": [
       "<matplotlib.axes._subplots.AxesSubplot at 0x1a1b133e48>"
      ]
     },
     "execution_count": 68,
     "metadata": {},
     "output_type": "execute_result"
    },
    {
     "data": {
      "image/png": "[encoded data removed]",
      "text/plain": [
       "<Figure size 432x288 with 1 Axes>"
      ]
     },
     "metadata": {},
     "output_type": "display_data"
    }
   ],
   "source": [
    "sns.countplot(x='group size', hue='year', data=lemur)"
   ]
  },
  {
   "cell_type": "code",
   "execution_count": 128,
   "metadata": {},
   "outputs": [
    {
     "name": "stdout",
     "output_type": "stream",
     "text": [
      "\\Library\\bin\\graphviz\n"
     ]
    }
   ],
   "source": [
    "import sys\n",
    "print(\"\\\\\".join(sys.executable.split(\"\\\\\")[:-1]) + \"\\\\Library\\\\bin\\\\graphviz\")"
   ]
  },
  {
   "cell_type": "markdown",
   "metadata": {},
   "source": [
    "Fra denne lille modellen kan vi lese av år og gruppestørrelsen til lemurene som ble observert. "
   ]
  }
 ],
 "metadata": {
  "kernelspec": {
   "display_name": "Python 3",
   "language": "python",
   "name": "python3"
  },
  "language_info": {
   "codemirror_mode": {
    "name": "ipython",
    "version": 3
   },
   "file_extension": ".py",
   "mimetype": "text/x-python",
   "name": "python",
   "nbconvert_exporter": "python",
   "pygments_lexer": "ipython3",
   "version": "3.6.5"
  }
 },
 "nbformat": 4,
 "nbformat_minor": 2
}
